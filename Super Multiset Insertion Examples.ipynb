{
 "cells": [
  {
   "cell_type": "code",
   "execution_count": 1,
   "metadata": {},
   "outputs": [],
   "source": [
    "from super_multiset_tableaux import *"
   ]
  },
  {
   "cell_type": "code",
   "execution_count": 2,
   "metadata": {},
   "outputs": [],
   "source": [
    "W = SuperBiWord([SuperBiLetter([[1,2],[2]]),SuperBiLetter([[-1],[-1]]),SuperBiLetter([[-1],[1,2]]),SuperBiLetter([[2],[-1,-2]])])"
   ]
  },
  {
   "cell_type": "code",
   "execution_count": 3,
   "metadata": {},
   "outputs": [
    {
     "name": "stdout",
     "output_type": "stream",
     "text": [
      "[1, 2]  [-1]  [-1]    [2]     \n",
      "[2]     [-1]  [1, 2]  [-1, -2]\n",
      "---\n",
      "[2]       [1, 2]  [-1]  [-1]  \n",
      "[-1, -2]  [2]     [-1]  [1, 2]\n"
     ]
    }
   ],
   "source": [
    "print(W);\n",
    "\n",
    "print(\"---\");\n",
    "\n",
    "print(W.ordered())"
   ]
  },
  {
   "cell_type": "code",
   "execution_count": 4,
   "metadata": {},
   "outputs": [
    {
     "data": {
      "text/plain": [
       "[[1, 2] [-1, -2]\n",
       " [2] [-1],\n",
       " [1, 2] [-1]\n",
       " [2] [-1]]"
      ]
     },
     "execution_count": 4,
     "metadata": {},
     "output_type": "execute_result"
    }
   ],
   "source": [
    "sRSK(W.ordered())"
   ]
  },
  {
   "cell_type": "code",
   "execution_count": 5,
   "metadata": {},
   "outputs": [
    {
     "name": "stdout",
     "output_type": "stream",
     "text": [
      "[1]  [1]  [1]  [2]   [3] \n",
      "[1]  [1]  [2]  [-1]  [-2]\n"
     ]
    }
   ],
   "source": [
    "P = SMPT([[[1],[1],[2]],[[-1]],[[-2]]]);\n",
    "Q = SMPT([[[1],[1],[1]],[[2]],[[3]]]);\n",
    "\n",
    "print(sRSK_inverse(P,Q))"
   ]
  }
 ],
 "metadata": {
  "kernelspec": {
   "display_name": "SageMath 9.0",
   "language": "sage",
   "name": "sagemath"
  },
  "language_info": {
   "codemirror_mode": {
    "name": "ipython",
    "version": 3
   },
   "file_extension": ".py",
   "mimetype": "text/x-python",
   "name": "python",
   "nbconvert_exporter": "python",
   "pygments_lexer": "ipython3",
   "version": "3.8.10"
  }
 },
 "nbformat": 4,
 "nbformat_minor": 4
}
